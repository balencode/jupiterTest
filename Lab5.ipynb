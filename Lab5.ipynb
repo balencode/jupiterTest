{
 "cells": [
  {
   "cell_type": "markdown",
   "id": "international-welcome",
   "metadata": {},
   "source": [
    "### Підготовка датасету"
   ]
  },
  {
   "cell_type": "markdown",
   "id": "acting-rugby",
   "metadata": {},
   "source": [
    "Мій датасет - результат аналізу найкращих пісень за 2010-2019 роки на платформі Spotify.Кількість стовпців - 14.\n",
    "\n",
    "Стовпці датасету представляють такі характеристики пісні:\n",
    "\n",
    "title — назва;\n",
    "\n",
    "artist — ім'я виконавця;\n",
    "\n",
    "top genre - назва жанру;\n",
    "\n",
    "year - рік випуску;\n",
    "\n",
    "bpm - (beats per minute) темп;\n",
    "\n",
    "nrgy - коефіцієнт енергійності (чим вище значення, тим пісня енергічніша);\n",
    "\n",
    "dnce - коефіцієнт можливості танцювання (чим вище значення, тим легше під неї танцювати);\n",
    "\n",
    "dB - гучність (чим вище значення, тим пісня гучніша);\n",
    "\n",
    "live - коефіцієнт живого запису (чим вище значення, тим більша імовірність, що трек записувався із живими інструментами);\n",
    "\n",
    "val - мотив (чим вище значення, тим веселіший мотив);\n",
    "\n",
    "dur - тривалість (в секундах);\n",
    "\n",
    "acous - акустичність (чим вище значення, тим менше відлуння);\n",
    "\n",
    "spch - коефіцієнт розмовності (чим вище значення, тим більше слів різноманітних слів було використано);\n",
    "\n",
    "pop - коефіцієнт популярності (чим вище значення, тим більша популярність).\n",
    "\n",
    "P.S. Значення визначене як коефіцієнт має можливий діапазон значень від 0 до 100."
   ]
  },
  {
   "cell_type": "code",
   "execution_count": 1,
   "id": "scheduled-casino",
   "metadata": {},
   "outputs": [
    {
     "data": {
      "text/html": [
       "<div>\n",
       "<style scoped>\n",
       "    .dataframe tbody tr th:only-of-type {\n",
       "        vertical-align: middle;\n",
       "    }\n",
       "\n",
       "    .dataframe tbody tr th {\n",
       "        vertical-align: top;\n",
       "    }\n",
       "\n",
       "    .dataframe thead th {\n",
       "        text-align: right;\n",
       "    }\n",
       "</style>\n",
       "<table border=\"1\" class=\"dataframe\">\n",
       "  <thead>\n",
       "    <tr style=\"text-align: right;\">\n",
       "      <th></th>\n",
       "      <th>title</th>\n",
       "      <th>artist</th>\n",
       "      <th>top genre</th>\n",
       "      <th>year</th>\n",
       "      <th>bpm</th>\n",
       "      <th>nrgy</th>\n",
       "      <th>dnce</th>\n",
       "      <th>dB</th>\n",
       "      <th>live</th>\n",
       "      <th>val</th>\n",
       "      <th>dur</th>\n",
       "      <th>acous</th>\n",
       "      <th>spch</th>\n",
       "      <th>pop</th>\n",
       "    </tr>\n",
       "  </thead>\n",
       "  <tbody>\n",
       "    <tr>\n",
       "      <th>0</th>\n",
       "      <td>Hey, Soul Sister</td>\n",
       "      <td>Train</td>\n",
       "      <td>neo mellow</td>\n",
       "      <td>2010</td>\n",
       "      <td>97</td>\n",
       "      <td>89</td>\n",
       "      <td>67</td>\n",
       "      <td>-4</td>\n",
       "      <td>8</td>\n",
       "      <td>80</td>\n",
       "      <td>217</td>\n",
       "      <td>19</td>\n",
       "      <td>4</td>\n",
       "      <td>83</td>\n",
       "    </tr>\n",
       "    <tr>\n",
       "      <th>1</th>\n",
       "      <td>Love The Way You Lie</td>\n",
       "      <td>Eminem</td>\n",
       "      <td>detroit hip hop</td>\n",
       "      <td>2010</td>\n",
       "      <td>87</td>\n",
       "      <td>93</td>\n",
       "      <td>75</td>\n",
       "      <td>-5</td>\n",
       "      <td>52</td>\n",
       "      <td>64</td>\n",
       "      <td>263</td>\n",
       "      <td>24</td>\n",
       "      <td>23</td>\n",
       "      <td>82</td>\n",
       "    </tr>\n",
       "    <tr>\n",
       "      <th>2</th>\n",
       "      <td>TiK ToK</td>\n",
       "      <td>Kesha</td>\n",
       "      <td>dance pop</td>\n",
       "      <td>2010</td>\n",
       "      <td>120</td>\n",
       "      <td>84</td>\n",
       "      <td>76</td>\n",
       "      <td>-3</td>\n",
       "      <td>29</td>\n",
       "      <td>71</td>\n",
       "      <td>200</td>\n",
       "      <td>10</td>\n",
       "      <td>14</td>\n",
       "      <td>80</td>\n",
       "    </tr>\n",
       "    <tr>\n",
       "      <th>3</th>\n",
       "      <td>Bad Romance</td>\n",
       "      <td>Lady Gaga</td>\n",
       "      <td>dance pop</td>\n",
       "      <td>2010</td>\n",
       "      <td>119</td>\n",
       "      <td>92</td>\n",
       "      <td>70</td>\n",
       "      <td>-4</td>\n",
       "      <td>8</td>\n",
       "      <td>71</td>\n",
       "      <td>295</td>\n",
       "      <td>0</td>\n",
       "      <td>4</td>\n",
       "      <td>79</td>\n",
       "    </tr>\n",
       "    <tr>\n",
       "      <th>4</th>\n",
       "      <td>Just the Way You Are</td>\n",
       "      <td>Bruno Mars</td>\n",
       "      <td>pop</td>\n",
       "      <td>2010</td>\n",
       "      <td>109</td>\n",
       "      <td>84</td>\n",
       "      <td>64</td>\n",
       "      <td>-5</td>\n",
       "      <td>9</td>\n",
       "      <td>43</td>\n",
       "      <td>221</td>\n",
       "      <td>2</td>\n",
       "      <td>4</td>\n",
       "      <td>78</td>\n",
       "    </tr>\n",
       "  </tbody>\n",
       "</table>\n",
       "</div>"
      ],
      "text/plain": [
       "                  title      artist        top genre  year  bpm  nrgy  dnce  \\\n",
       "0      Hey, Soul Sister       Train       neo mellow  2010   97    89    67   \n",
       "1  Love The Way You Lie      Eminem  detroit hip hop  2010   87    93    75   \n",
       "2               TiK ToK       Kesha        dance pop  2010  120    84    76   \n",
       "3           Bad Romance   Lady Gaga        dance pop  2010  119    92    70   \n",
       "4  Just the Way You Are  Bruno Mars              pop  2010  109    84    64   \n",
       "\n",
       "   dB  live  val  dur  acous  spch  pop  \n",
       "0  -4     8   80  217     19     4   83  \n",
       "1  -5    52   64  263     24    23   82  \n",
       "2  -3    29   71  200     10    14   80  \n",
       "3  -4     8   71  295      0     4   79  \n",
       "4  -5     9   43  221      2     4   78  "
      ]
     },
     "execution_count": 1,
     "metadata": {},
     "output_type": "execute_result"
    }
   ],
   "source": [
    "# Датасет взято із https://www.kaggle.com/leonardopena/top-spotify-songs-from-20102019-by-year\n",
    "import pandas as pd\n",
    "import numpy as np\n",
    "\n",
    "url = \"https://raw.githubusercontent.com/AlexRedchuk/csvSharing/master/top10s.csv\"\n",
    "\n",
    "df = pd.read_csv(url, encoding='cp1252')\n",
    "df.drop('Unnamed: 0', inplace=True, axis=1)\n",
    "\n",
    "df.head()"
   ]
  },
  {
   "cell_type": "code",
   "execution_count": 2,
   "id": "leading-slide",
   "metadata": {},
   "outputs": [
    {
     "data": {
      "text/plain": [
       "dance pop       327\n",
       "pop              60\n",
       "canadian pop     34\n",
       "Name: top genre, dtype: int64"
      ]
     },
     "execution_count": 2,
     "metadata": {},
     "output_type": "execute_result"
    }
   ],
   "source": [
    "sub_df = df[df.groupby('top genre')['top genre'].transform('count')>30].copy() \n",
    "sub_df['top genre'].value_counts()"
   ]
  },
  {
   "cell_type": "markdown",
   "id": "abstract-trace",
   "metadata": {},
   "source": [
    "### Нормалізація"
   ]
  },
  {
   "cell_type": "code",
   "execution_count": 3,
   "id": "objective-brunei",
   "metadata": {},
   "outputs": [
    {
     "data": {
      "text/html": [
       "<div>\n",
       "<style scoped>\n",
       "    .dataframe tbody tr th:only-of-type {\n",
       "        vertical-align: middle;\n",
       "    }\n",
       "\n",
       "    .dataframe tbody tr th {\n",
       "        vertical-align: top;\n",
       "    }\n",
       "\n",
       "    .dataframe thead th {\n",
       "        text-align: right;\n",
       "    }\n",
       "</style>\n",
       "<table border=\"1\" class=\"dataframe\">\n",
       "  <thead>\n",
       "    <tr style=\"text-align: right;\">\n",
       "      <th></th>\n",
       "      <th>title</th>\n",
       "      <th>artist</th>\n",
       "      <th>top genre</th>\n",
       "      <th>year</th>\n",
       "      <th>bpm</th>\n",
       "      <th>nrgy</th>\n",
       "      <th>dnce</th>\n",
       "      <th>dB</th>\n",
       "      <th>live</th>\n",
       "      <th>val</th>\n",
       "      <th>dur</th>\n",
       "      <th>acous</th>\n",
       "      <th>spch</th>\n",
       "      <th>pop</th>\n",
       "    </tr>\n",
       "  </thead>\n",
       "  <tbody>\n",
       "    <tr>\n",
       "      <th>2</th>\n",
       "      <td>TiK ToK</td>\n",
       "      <td>Kesha</td>\n",
       "      <td>dance pop</td>\n",
       "      <td>2010</td>\n",
       "      <td>0.484277</td>\n",
       "      <td>0.835616</td>\n",
       "      <td>0.716216</td>\n",
       "      <td>0.9</td>\n",
       "      <td>0.375000</td>\n",
       "      <td>0.712766</td>\n",
       "      <td>0.227586</td>\n",
       "      <td>0.108696</td>\n",
       "      <td>0.244444</td>\n",
       "      <td>0.808081</td>\n",
       "    </tr>\n",
       "    <tr>\n",
       "      <th>3</th>\n",
       "      <td>Bad Romance</td>\n",
       "      <td>Lady Gaga</td>\n",
       "      <td>dance pop</td>\n",
       "      <td>2010</td>\n",
       "      <td>0.477987</td>\n",
       "      <td>0.945205</td>\n",
       "      <td>0.635135</td>\n",
       "      <td>0.8</td>\n",
       "      <td>0.083333</td>\n",
       "      <td>0.712766</td>\n",
       "      <td>0.555172</td>\n",
       "      <td>0.000000</td>\n",
       "      <td>0.022222</td>\n",
       "      <td>0.797980</td>\n",
       "    </tr>\n",
       "    <tr>\n",
       "      <th>4</th>\n",
       "      <td>Just the Way You Are</td>\n",
       "      <td>Bruno Mars</td>\n",
       "      <td>pop</td>\n",
       "      <td>2010</td>\n",
       "      <td>0.415094</td>\n",
       "      <td>0.835616</td>\n",
       "      <td>0.554054</td>\n",
       "      <td>0.7</td>\n",
       "      <td>0.097222</td>\n",
       "      <td>0.414894</td>\n",
       "      <td>0.300000</td>\n",
       "      <td>0.021739</td>\n",
       "      <td>0.022222</td>\n",
       "      <td>0.787879</td>\n",
       "    </tr>\n",
       "    <tr>\n",
       "      <th>5</th>\n",
       "      <td>Baby</td>\n",
       "      <td>Justin Bieber</td>\n",
       "      <td>canadian pop</td>\n",
       "      <td>2010</td>\n",
       "      <td>0.138365</td>\n",
       "      <td>0.863014</td>\n",
       "      <td>0.675676</td>\n",
       "      <td>0.7</td>\n",
       "      <td>0.125000</td>\n",
       "      <td>0.531915</td>\n",
       "      <td>0.275862</td>\n",
       "      <td>0.043478</td>\n",
       "      <td>0.244444</td>\n",
       "      <td>0.777778</td>\n",
       "    </tr>\n",
       "    <tr>\n",
       "      <th>6</th>\n",
       "      <td>Dynamite</td>\n",
       "      <td>Taio Cruz</td>\n",
       "      <td>dance pop</td>\n",
       "      <td>2010</td>\n",
       "      <td>0.484277</td>\n",
       "      <td>0.753425</td>\n",
       "      <td>0.702703</td>\n",
       "      <td>0.8</td>\n",
       "      <td>0.027778</td>\n",
       "      <td>0.829787</td>\n",
       "      <td>0.237931</td>\n",
       "      <td>0.000000</td>\n",
       "      <td>0.133333</td>\n",
       "      <td>0.777778</td>\n",
       "    </tr>\n",
       "    <tr>\n",
       "      <th>...</th>\n",
       "      <td>...</td>\n",
       "      <td>...</td>\n",
       "      <td>...</td>\n",
       "      <td>...</td>\n",
       "      <td>...</td>\n",
       "      <td>...</td>\n",
       "      <td>...</td>\n",
       "      <td>...</td>\n",
       "      <td>...</td>\n",
       "      <td>...</td>\n",
       "      <td>...</td>\n",
       "      <td>...</td>\n",
       "      <td>...</td>\n",
       "      <td>...</td>\n",
       "    </tr>\n",
       "    <tr>\n",
       "      <th>595</th>\n",
       "      <td>Antisocial (with Travis Scott)</td>\n",
       "      <td>Ed Sheeran</td>\n",
       "      <td>pop</td>\n",
       "      <td>2019</td>\n",
       "      <td>0.685535</td>\n",
       "      <td>0.808219</td>\n",
       "      <td>0.662162</td>\n",
       "      <td>0.7</td>\n",
       "      <td>0.472222</td>\n",
       "      <td>0.925532</td>\n",
       "      <td>0.096552</td>\n",
       "      <td>0.141304</td>\n",
       "      <td>0.044444</td>\n",
       "      <td>0.787879</td>\n",
       "    </tr>\n",
       "    <tr>\n",
       "      <th>598</th>\n",
       "      <td>Find U Again (feat. Camila Cabello)</td>\n",
       "      <td>Mark Ronson</td>\n",
       "      <td>dance pop</td>\n",
       "      <td>2019</td>\n",
       "      <td>0.383648</td>\n",
       "      <td>0.589041</td>\n",
       "      <td>0.513514</td>\n",
       "      <td>0.5</td>\n",
       "      <td>0.250000</td>\n",
       "      <td>0.127660</td>\n",
       "      <td>0.144828</td>\n",
       "      <td>0.010870</td>\n",
       "      <td>0.000000</td>\n",
       "      <td>0.757576</td>\n",
       "    </tr>\n",
       "    <tr>\n",
       "      <th>599</th>\n",
       "      <td>Cross Me (feat. Chance the Rapper &amp; PnB Rock)</td>\n",
       "      <td>Ed Sheeran</td>\n",
       "      <td>pop</td>\n",
       "      <td>2019</td>\n",
       "      <td>0.327044</td>\n",
       "      <td>0.767123</td>\n",
       "      <td>0.702703</td>\n",
       "      <td>0.6</td>\n",
       "      <td>0.069444</td>\n",
       "      <td>0.606383</td>\n",
       "      <td>0.248276</td>\n",
       "      <td>0.228261</td>\n",
       "      <td>0.200000</td>\n",
       "      <td>0.757576</td>\n",
       "    </tr>\n",
       "    <tr>\n",
       "      <th>600</th>\n",
       "      <td>No Brainer (feat. Justin Bieber, Chance the Ra...</td>\n",
       "      <td>DJ Khaled</td>\n",
       "      <td>dance pop</td>\n",
       "      <td>2019</td>\n",
       "      <td>0.584906</td>\n",
       "      <td>0.726027</td>\n",
       "      <td>0.405405</td>\n",
       "      <td>0.7</td>\n",
       "      <td>0.097222</td>\n",
       "      <td>0.648936</td>\n",
       "      <td>0.434483</td>\n",
       "      <td>0.076087</td>\n",
       "      <td>0.688889</td>\n",
       "      <td>0.707071</td>\n",
       "    </tr>\n",
       "    <tr>\n",
       "      <th>601</th>\n",
       "      <td>Nothing Breaks Like a Heart (feat. Miley Cyrus)</td>\n",
       "      <td>Mark Ronson</td>\n",
       "      <td>dance pop</td>\n",
       "      <td>2019</td>\n",
       "      <td>0.446541</td>\n",
       "      <td>0.767123</td>\n",
       "      <td>0.500000</td>\n",
       "      <td>0.6</td>\n",
       "      <td>0.555556</td>\n",
       "      <td>0.212766</td>\n",
       "      <td>0.286207</td>\n",
       "      <td>0.010870</td>\n",
       "      <td>0.088889</td>\n",
       "      <td>0.696970</td>\n",
       "    </tr>\n",
       "  </tbody>\n",
       "</table>\n",
       "<p>421 rows × 14 columns</p>\n",
       "</div>"
      ],
      "text/plain": [
       "                                                 title         artist  \\\n",
       "2                                              TiK ToK          Kesha   \n",
       "3                                          Bad Romance      Lady Gaga   \n",
       "4                                 Just the Way You Are     Bruno Mars   \n",
       "5                                                 Baby  Justin Bieber   \n",
       "6                                             Dynamite      Taio Cruz   \n",
       "..                                                 ...            ...   \n",
       "595                     Antisocial (with Travis Scott)     Ed Sheeran   \n",
       "598                Find U Again (feat. Camila Cabello)    Mark Ronson   \n",
       "599      Cross Me (feat. Chance the Rapper & PnB Rock)     Ed Sheeran   \n",
       "600  No Brainer (feat. Justin Bieber, Chance the Ra...      DJ Khaled   \n",
       "601    Nothing Breaks Like a Heart (feat. Miley Cyrus)    Mark Ronson   \n",
       "\n",
       "        top genre  year       bpm      nrgy      dnce   dB      live  \\\n",
       "2       dance pop  2010  0.484277  0.835616  0.716216  0.9  0.375000   \n",
       "3       dance pop  2010  0.477987  0.945205  0.635135  0.8  0.083333   \n",
       "4             pop  2010  0.415094  0.835616  0.554054  0.7  0.097222   \n",
       "5    canadian pop  2010  0.138365  0.863014  0.675676  0.7  0.125000   \n",
       "6       dance pop  2010  0.484277  0.753425  0.702703  0.8  0.027778   \n",
       "..            ...   ...       ...       ...       ...  ...       ...   \n",
       "595           pop  2019  0.685535  0.808219  0.662162  0.7  0.472222   \n",
       "598     dance pop  2019  0.383648  0.589041  0.513514  0.5  0.250000   \n",
       "599           pop  2019  0.327044  0.767123  0.702703  0.6  0.069444   \n",
       "600     dance pop  2019  0.584906  0.726027  0.405405  0.7  0.097222   \n",
       "601     dance pop  2019  0.446541  0.767123  0.500000  0.6  0.555556   \n",
       "\n",
       "          val       dur     acous      spch       pop  \n",
       "2    0.712766  0.227586  0.108696  0.244444  0.808081  \n",
       "3    0.712766  0.555172  0.000000  0.022222  0.797980  \n",
       "4    0.414894  0.300000  0.021739  0.022222  0.787879  \n",
       "5    0.531915  0.275862  0.043478  0.244444  0.777778  \n",
       "6    0.829787  0.237931  0.000000  0.133333  0.777778  \n",
       "..        ...       ...       ...       ...       ...  \n",
       "595  0.925532  0.096552  0.141304  0.044444  0.787879  \n",
       "598  0.127660  0.144828  0.010870  0.000000  0.757576  \n",
       "599  0.606383  0.248276  0.228261  0.200000  0.757576  \n",
       "600  0.648936  0.434483  0.076087  0.688889  0.707071  \n",
       "601  0.212766  0.286207  0.010870  0.088889  0.696970  \n",
       "\n",
       "[421 rows x 14 columns]"
      ]
     },
     "execution_count": 3,
     "metadata": {},
     "output_type": "execute_result"
    }
   ],
   "source": [
    "import pandas as pd\n",
    "from sklearn import preprocessing\n",
    "\n",
    "df_normalized = sub_df.copy()\n",
    "non_categorial_fields = ['bpm', 'nrgy',\t'dnce',\t'dB',\t'live',\t'val',\t'dur',\t'acous',\t'spch',\t'pop']\n",
    "x = sub_df[non_categorial_fields].values #returns a numpy array\n",
    "min_max_scaler = preprocessing.MinMaxScaler()\n",
    "x_scaled = min_max_scaler.fit_transform(x)\n",
    "df_normalized[non_categorial_fields] = x_scaled\n",
    "df_normalized"
   ]
  },
  {
   "cell_type": "markdown",
   "id": "hungry-newark",
   "metadata": {},
   "source": [
    "P.S. Робота із пропущеними значеннями не потрібна, адже в мене пропущені такі дані"
   ]
  },
  {
   "cell_type": "markdown",
   "id": "recovered-twelve",
   "metadata": {},
   "source": [
    "### Розподіл на навчальні та тестові дані"
   ]
  },
  {
   "cell_type": "code",
   "execution_count": 4,
   "id": "provincial-designer",
   "metadata": {},
   "outputs": [],
   "source": [
    "from sklearn.tree import DecisionTreeClassifier # Import Decision Tree Classifier\n",
    "from sklearn.model_selection import train_test_split # Import train_test_split function\n",
    "from sklearn import metrics #Import scikit-learn metrics module for accuracy calculation\n",
    "\n",
    "X = df_normalized[non_categorial_fields] # Features\n",
    "y = df_normalized['top genre'] # Target variable\n",
    "\n",
    "X_train, X_test, y_train, y_test = train_test_split(X, y, test_size=0.33, random_state=42)"
   ]
  },
  {
   "cell_type": "code",
   "execution_count": 5,
   "id": "tamil-pollution",
   "metadata": {},
   "outputs": [],
   "source": [
    "import pandas as pd  \n",
    "import numpy as np  \n",
    "from sklearn.model_selection import GridSearchCV\n",
    "from sklearn.neighbors import KNeighborsClassifier\n",
    "from sklearn.metrics import classification_report, confusion_matrix  \n",
    "import matplotlib.pyplot as plt\n",
    "from matplotlib.colors import ListedColormap\n",
    "import seaborn as sns\n",
    "%matplotlib inline"
   ]
  },
  {
   "cell_type": "code",
   "execution_count": 6,
   "id": "illegal-wholesale",
   "metadata": {},
   "outputs": [],
   "source": [
    "#import seaborn as sns\n",
    "#sns.pairplot(df_normalized,hue='top genre',palette='Dark2')"
   ]
  },
  {
   "cell_type": "code",
   "execution_count": 13,
   "id": "threatened-correction",
   "metadata": {},
   "outputs": [
    {
     "name": "stdout",
     "output_type": "stream",
     "text": [
      "Accuracy: 0.7410071942446043\n"
     ]
    }
   ],
   "source": [
    "knn = KNeighborsClassifier(n_neighbors=15)\n",
    "\n",
    "knn.fit(X_train, y_train)\n",
    "y_pred = knn.predict(X_test)\n",
    "print(\"Accuracy:\",metrics.accuracy_score(y_test, y_pred))"
   ]
  },
  {
   "cell_type": "markdown",
   "id": "central-disclosure",
   "metadata": {},
   "source": [
    "### Графічне зображення"
   ]
  },
  {
   "cell_type": "code",
   "execution_count": 8,
   "id": "minimal-format",
   "metadata": {},
   "outputs": [
    {
     "data": {
      "image/png": "[encoded data removed]",
      "text/plain": [
       "<Figure size 576x432 with 1 Axes>"
      ]
     },
     "metadata": {
      "needs_background": "light"
     },
     "output_type": "display_data"
    },
    {
     "data": {
      "image/png": "[encoded data removed]",
      "text/plain": [
       "<Figure size 576x432 with 1 Axes>"
      ]
     },
     "metadata": {
      "needs_background": "light"
     },
     "output_type": "display_data"
    }
   ],
   "source": [
    "h = .02  # step size in the mesh\n",
    "\n",
    "# Create color maps\n",
    "cmap_light = ListedColormap(['orange', 'cyan', 'cornflowerblue'])\n",
    "cmap_bold = ['darkorange', 'c', 'darkblue']\n",
    "n_neighbors = 15\n",
    "y2 = y.astype('category')\n",
    "y2 = y2.cat.codes\n",
    "y2 = y2.astype(float)\n",
    "\n",
    "for weights in ['uniform', 'distance']:\n",
    "    # we create an instance of Neighbours Classifier and fit the data.\n",
    "    clf = KNeighborsClassifier(n_neighbors, weights=weights)\n",
    "    clf.fit(X, y2)\n",
    "\n",
    "    # Plot the decision boundary. For that, we will assign a color to each\n",
    "    # point in the mesh [x_min, x_max]x[y_min, y_max].\n",
    "    x_min, x_max = X_train.iloc[:, 0].min() - 1, X_train.iloc[:, 0].max() + 1\n",
    "    y_min, y_max = X_train.iloc[:, 1].min() - 1, X_train.iloc[:, 1].max() + 1\n",
    "    xx, yy = np.meshgrid(np.arange(x_min, x_max, h),\n",
    "                         np.arange(y_min, y_max, h))\n",
    "    Xpred = np.array([xx.ravel(), yy.ravel()] + [np.repeat(0, xx.ravel().size) for _ in range(8)]).T\n",
    "    Z = clf.predict(Xpred)\n",
    "\n",
    "    # Put the result into a color plot\n",
    "    Z = Z.reshape(xx.shape)\n",
    "    plt.figure(figsize=(8, 6))\n",
    "    plt.contourf(xx, yy, Z, cmap=cmap_light)\n",
    "\n",
    "    # Plot also the training points\n",
    "    sns.scatterplot(x=X_train.iloc[:, 0], y=X.iloc[:, 1], hue=y,\n",
    "                    palette=cmap_bold, alpha=1.0, edgecolor=\"black\")\n",
    "    plt.xlim(xx.min(), xx.max())\n",
    "    plt.ylim(yy.min(), yy.max())\n",
    "    plt.title(\"3-Class classification (k = %i, weights = '%s')\"\n",
    "              % (n_neighbors, weights))\n",
    "    plt.xlabel('live')\n",
    "    plt.ylabel('nrgy')\n",
    "\n",
    "plt.show()"
   ]
  },
  {
   "cell_type": "markdown",
   "id": "rolled-updating",
   "metadata": {},
   "source": [
    "### Пошук оптимальних параметрів"
   ]
  },
  {
   "cell_type": "markdown",
   "id": "boring-payroll",
   "metadata": {},
   "source": [
    "#### Розширив діапазон роботи пошуку оптимальних параметрів"
   ]
  },
  {
   "cell_type": "code",
   "execution_count": 9,
   "id": "split-tutorial",
   "metadata": {},
   "outputs": [
    {
     "name": "stdout",
     "output_type": "stream",
     "text": [
      "Fitting 5 folds for each of 29 candidates, totalling 145 fits\n"
     ]
    },
    {
     "data": {
      "text/plain": [
       "({'knn__n_neighbors': 9}, 0.7979323308270677)"
      ]
     },
     "execution_count": 9,
     "metadata": {},
     "output_type": "execute_result"
    }
   ],
   "source": [
    "from sklearn.pipeline import Pipeline \n",
    "from sklearn.preprocessing import StandardScaler\n",
    "knn_pipe = Pipeline([('scaler', StandardScaler()), ('knn', \n",
    "KNeighborsClassifier(n_jobs=-1))])\n",
    "knn_params = {'knn__n_neighbors': np.arange(1,30)}\n",
    "knn_grid = GridSearchCV(knn_pipe, knn_params, cv=5, n_jobs=-1, refit=True,\n",
    "verbose=1 )\n",
    "knn_grid.fit(X_train, y_train)\n",
    "knn_grid.best_params_, knn_grid.best_score_"
   ]
  },
  {
   "cell_type": "code",
   "execution_count": 14,
   "id": "unusual-participant",
   "metadata": {},
   "outputs": [
    {
     "data": {
      "text/plain": [
       "GridSearchCV(cv=5,\n",
       "             estimator=Pipeline(steps=[('scaler', StandardScaler()),\n",
       "                                       ('knn',\n",
       "                                        KNeighborsClassifier(n_jobs=-1))]),\n",
       "             n_jobs=-1,\n",
       "             param_grid={'knn__n_neighbors': array([ 1,  2,  3,  4,  5,  6,  7,  8,  9, 10, 11, 12, 13, 14, 15, 16, 17,\n",
       "       18, 19, 20, 21, 22, 23, 24, 25, 26, 27, 28, 29])},\n",
       "             verbose=1)"
      ]
     },
     "execution_count": 14,
     "metadata": {},
     "output_type": "execute_result"
    }
   ],
   "source": [
    "knn_grid"
   ]
  },
  {
   "cell_type": "markdown",
   "id": "consecutive-airline",
   "metadata": {},
   "source": [
    "### Затсосування оптимальних параметрів"
   ]
  },
  {
   "cell_type": "code",
   "execution_count": 10,
   "id": "commercial-robert",
   "metadata": {},
   "outputs": [
    {
     "name": "stdout",
     "output_type": "stream",
     "text": [
      "Accuracy: 0.7266187050359713\n"
     ]
    }
   ],
   "source": [
    "knn = KNeighborsClassifier(n_neighbors=9)\n",
    "\n",
    "knn.fit(X_train, y_train)\n",
    "y_pred = knn.predict(X_test)\n",
    "print(\"Accuracy:\",metrics.accuracy_score(y_test, y_pred))"
   ]
  },
  {
   "cell_type": "code",
   "execution_count": 11,
   "id": "hairy-massachusetts",
   "metadata": {},
   "outputs": [
    {
     "data": {
      "image/png": "[encoded data removed]",
      "text/plain": [
       "<Figure size 576x432 with 1 Axes>"
      ]
     },
     "metadata": {
      "needs_background": "light"
     },
     "output_type": "display_data"
    },
    {
     "data": {
      "image/png": "[encoded data removed]",
      "text/plain": [
       "<Figure size 576x432 with 1 Axes>"
      ]
     },
     "metadata": {
      "needs_background": "light"
     },
     "output_type": "display_data"
    }
   ],
   "source": [
    "h = .02  # step size in the mesh\n",
    "\n",
    "# Create color maps\n",
    "cmap_light = ListedColormap(['orange', 'cyan', 'cornflowerblue'])\n",
    "cmap_bold = ['darkorange', 'c', 'darkblue']\n",
    "n_neighbors = 9\n",
    "y2 = y.astype('category')\n",
    "y2 = y2.cat.codes\n",
    "y2 = y2.astype(float)\n",
    "\n",
    "for weights in ['uniform', 'distance']:\n",
    "    # we create an instance of Neighbours Classifier and fit the data.\n",
    "    clf = KNeighborsClassifier(n_neighbors, weights=weights)\n",
    "    clf.fit(X, y2)\n",
    "\n",
    "    # Plot the decision boundary. For that, we will assign a color to each\n",
    "    # point in the mesh [x_min, x_max]x[y_min, y_max].\n",
    "    x_min, x_max = X_train.iloc[:, 0].min() - 1, X_train.iloc[:, 0].max() + 1\n",
    "    y_min, y_max = X_train.iloc[:, 1].min() - 1, X_train.iloc[:, 1].max() + 1\n",
    "    xx, yy = np.meshgrid(np.arange(x_min, x_max, h),\n",
    "                         np.arange(y_min, y_max, h))\n",
    "    Xpred = np.array([xx.ravel(), yy.ravel()] + [np.repeat(0, xx.ravel().size) for _ in range(8)]).T\n",
    "    Z = clf.predict(Xpred)\n",
    "\n",
    "    # Put the result into a color plot\n",
    "    Z = Z.reshape(xx.shape)\n",
    "    plt.figure(figsize=(8, 6))\n",
    "    plt.contourf(xx, yy, Z, cmap=cmap_light)\n",
    "\n",
    "    # Plot also the training points\n",
    "    sns.scatterplot(x=X_train.iloc[:, 0], y=X.iloc[:, 1], hue=y,\n",
    "                    palette=cmap_bold, alpha=1.0, edgecolor=\"black\")\n",
    "    plt.xlim(xx.min(), xx.max())\n",
    "    plt.ylim(yy.min(), yy.max())\n",
    "    plt.title(\"3-Class classification (k = %i, weights = '%s')\"\n",
    "              % (n_neighbors, weights))\n",
    "    plt.xlabel('live')\n",
    "    plt.ylabel('nrgy')\n",
    "\n",
    "plt.show()"
   ]
  },
  {
   "cell_type": "code",
   "execution_count": 12,
   "id": "tough-broadcast",
   "metadata": {},
   "outputs": [
    {
     "name": "stdout",
     "output_type": "stream",
     "text": [
      "[[  0  10   0]\n",
      " [  0 101   2]\n",
      " [  0  26   0]]\n",
      "              precision    recall  f1-score   support\n",
      "\n",
      "canadian pop       0.00      0.00      0.00        10\n",
      "   dance pop       0.74      0.98      0.84       103\n",
      "         pop       0.00      0.00      0.00        26\n",
      "\n",
      "    accuracy                           0.73       139\n",
      "   macro avg       0.25      0.33      0.28       139\n",
      "weighted avg       0.55      0.73      0.62       139\n",
      "\n"
     ]
    },
    {
     "name": "stderr",
     "output_type": "stream",
     "text": [
      "c:\\users\\sanya\\appdata\\local\\programs\\python\\python39\\lib\\site-packages\\sklearn\\metrics\\_classification.py:1245: UndefinedMetricWarning: Precision and F-score are ill-defined and being set to 0.0 in labels with no predicted samples. Use `zero_division` parameter to control this behavior.\n",
      "  _warn_prf(average, modifier, msg_start, len(result))\n",
      "c:\\users\\sanya\\appdata\\local\\programs\\python\\python39\\lib\\site-packages\\sklearn\\metrics\\_classification.py:1245: UndefinedMetricWarning: Precision and F-score are ill-defined and being set to 0.0 in labels with no predicted samples. Use `zero_division` parameter to control this behavior.\n",
      "  _warn_prf(average, modifier, msg_start, len(result))\n",
      "c:\\users\\sanya\\appdata\\local\\programs\\python\\python39\\lib\\site-packages\\sklearn\\metrics\\_classification.py:1245: UndefinedMetricWarning: Precision and F-score are ill-defined and being set to 0.0 in labels with no predicted samples. Use `zero_division` parameter to control this behavior.\n",
      "  _warn_prf(average, modifier, msg_start, len(result))\n"
     ]
    }
   ],
   "source": [
    "grid_predictions = knn_grid.predict(X_test)\n",
    "print(confusion_matrix(y_test,grid_predictions))\n",
    "print(classification_report(y_test,grid_predictions))"
   ]
  },
  {
   "cell_type": "code",
   "execution_count": null,
   "id": "persistent-quarter",
   "metadata": {},
   "outputs": [],
   "source": []
  }
 ],
 "metadata": {
  "kernelspec": {
   "display_name": "Python 3",
   "language": "python",
   "name": "python3"
  },
  "language_info": {
   "codemirror_mode": {
    "name": "ipython",
    "version": 3
   },
   "file_extension": ".py",
   "mimetype": "text/x-python",
   "name": "python",
   "nbconvert_exporter": "python",
   "pygments_lexer": "ipython3",
   "version": "3.9.2"
  }
 },
 "nbformat": 4,
 "nbformat_minor": 5
}
